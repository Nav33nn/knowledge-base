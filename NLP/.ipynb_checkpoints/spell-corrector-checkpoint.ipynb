{
 "cells": [
  {
   "cell_type": "code",
   "execution_count": 1,
   "metadata": {
    "collapsed": true
   },
   "outputs": [],
   "source": [
    "import re\n",
    "from collections import Counter"
   ]
  },
  {
   "cell_type": "code",
   "execution_count": 2,
   "metadata": {
    "collapsed": true
   },
   "outputs": [],
   "source": [
    "# function to tokenise words\n",
    "def words(document):\n",
    "    \"Convert text to lower case and tokenise the document\"\n",
    "    return re.findall(r'\\w+', document.lower())"
   ]
  },
  {
   "cell_type": "code",
   "execution_count": 3,
   "metadata": {
    "collapsed": true
   },
   "outputs": [],
   "source": [
    "# create a frequency table of all the words of the document\n",
    "all_words = Counter(words(open('big.txt').read()))"
   ]
  },
  {
   "cell_type": "code",
   "execution_count": 4,
   "metadata": {},
   "outputs": [
    {
     "data": {
      "text/plain": [
       "135"
      ]
     },
     "execution_count": 4,
     "metadata": {},
     "output_type": "execute_result"
    }
   ],
   "source": [
    "# check frequency of a random word, say, 'chair'\n",
    "all_words['chair']"
   ]
  },
  {
   "cell_type": "code",
   "execution_count": 5,
   "metadata": {},
   "outputs": [
    {
     "data": {
      "text/plain": [
       "[('the', 79809),\n",
       " ('of', 40024),\n",
       " ('and', 38312),\n",
       " ('to', 28765),\n",
       " ('in', 22023),\n",
       " ('a', 21124),\n",
       " ('that', 12512),\n",
       " ('he', 12401),\n",
       " ('was', 11410),\n",
       " ('it', 10681)]"
      ]
     },
     "execution_count": 5,
     "metadata": {},
     "output_type": "execute_result"
    }
   ],
   "source": [
    "# look at top 10 frequent words\n",
    "all_words.most_common(10)"
   ]
  },
  {
   "cell_type": "code",
   "execution_count": 6,
   "metadata": {
    "collapsed": true
   },
   "outputs": [],
   "source": [
    "def edits_one(word):\n",
    "    \"Create all edits that are one edit away from `word`.\"\n",
    "    alphabets    = 'abcdefghijklmnopqrstuvwxyz'\n",
    "    splits     = [(word[:i], word[i:])                   for i in range(len(word) + 1)]\n",
    "    deletes    = [left + right[1:]                       for left, right in splits if right]\n",
    "    inserts    = [left + c + right                       for left, right in splits for c in alphabets]\n",
    "    replaces   = [left + c + right[1:]                   for left, right in splits if right for c in alphabets]\n",
    "    transposes = [left + right[1] + right[0] + right[2:] for left, right in splits if len(right)>1]\n",
    "    return set(deletes + inserts + replaces + transposes)"
   ]
  },
  {
   "cell_type": "code",
   "execution_count": 7,
   "metadata": {
    "collapsed": true
   },
   "outputs": [],
   "source": [
    "def edits_two(word):\n",
    "    \"Create all edits that are two edits away from `word`.\"\n",
    "    return (e2 for e1 in edits_one(word) for e2 in edits_one(e1))"
   ]
  },
  {
   "cell_type": "code",
   "execution_count": 8,
   "metadata": {
    "collapsed": true
   },
   "outputs": [],
   "source": [
    "def known(words):\n",
    "    \"The subset of `words` that appear in the `all_words`.\"\n",
    "    return set(word for word in words if word in all_words)"
   ]
  },
  {
   "cell_type": "code",
   "execution_count": 9,
   "metadata": {
    "collapsed": true
   },
   "outputs": [],
   "source": [
    "def possible_corrections(word):\n",
    "    \"Generate possible spelling corrections for word.\"\n",
    "    return (known([word]) or known(edits_one(word)) or known(edits_two(word)) or [word])"
   ]
  },
  {
   "cell_type": "code",
   "execution_count": 10,
   "metadata": {
    "collapsed": true
   },
   "outputs": [],
   "source": [
    "def prob(word, N=sum(all_words.values())): \n",
    "    \"Probability of `word`: Number of appearances of 'word' / total number of tokens\"\n",
    "    return all_words[word] / N"
   ]
  },
  {
   "cell_type": "code",
   "execution_count": 11,
   "metadata": {},
   "outputs": [
    {
     "name": "stdout",
     "output_type": "stream",
     "text": [
      "336\n",
      "{'fmonney', 'monnvy', 'mronney', 'monjey', 'monnfey', 'ymonney', 'monngey', 'mkonney', 'moxnney', 'monnrey', 'monyey', 'monne', 'monnpy', 'monnehy', 'montey', 'mnonney', 'lmonney', 'monneyv', 'konney', 'mooney', 'mvnney', 'mohney', 'monncey', 'monniy', 'amonney', 'momney', 'monnoy', 'fonney', 'msnney', 'moxney', 'monfney', 'ronney', 'moncey', 'moneny', 'vmonney', 'monneyu', 'minney', 'monnyey', 'onney', 'monnley', 'imonney', 'moanney', 'mornney', 'monneyb', 'monneyk', 'monqey', 'monnky', 'mhonney', 'hmonney', 'mvonney', 'monnefy', 'moneney', 'omnney', 'mongey', 'monneby', 'mqonney', 'monnejy', 'monnny', 'mnnney', 'monnjey', 'mnoney', 'mwnney', 'montney', 'monntey', 'mrnney', 'monneyw', 'mosney', 'monneny', 'monnery', 'monnezy', 'monrney', 'monneyx', 'monnety', 'monneya', 'mfnney', 'mojney', 'monnye', 'gmonney', 'muonney', 'monnecy', 'monnegy', 'monnoey', 'monnesy', 'qmonney', 'mondey', 'omonney', 'monnsey', 'moniney', 'myonney', 'monjney', 'mmnney', 'moneey', 'monkey', 'modnney', 'monneq', 'monnuey', 'mqnney', 'monbey', 'mobney', 'mtonney', 'mponney', 'mynney', 'mownney', 'mounney', 'molnney', 'modney', 'monsey', 'monngy', 'monneyh', 'moinney', 'moqney', 'conney', 'monnby', 'mognney', 'monndey', 'monnfy', 'monnep', 'ponney', 'monmney', 'wonney', 'monley', 'monny', 'monvey', 'mofney', 'honney', 'munney', 'monnedy', 'monneyc', 'monnhy', 'zmonney', 'monnuy', 'mdonney', 'mokney', 'mxonney', 'morney', 'uonney', 'monsney', 'monxney', 'mhnney', 'monnei', 'monlney', 'monneys', 'moonney', 'mzonney', 'mjonney', 'mogney', 'monnel', 'monned', 'monnaey', 'monnvey', 'monnevy', 'aonney', 'mondney', 'monvney', 'monnexy', 'monnej', 'monnew', 'monzney', 'monnpey', 'monneym', 'mznney', 'monneay', 'mozney', 'monneg', 'mgnney', 'monnwy', 'mojnney', 'monhey', 'movney', 'monnxey', 'monnney', 'monneyy', 'mbnney', 'dmonney', 'mwonney', 'monneoy', 'moiney', 'money', 'mtnney', 'monnsy', 'nonney', 'monneh', 'moknney', 'monqney', 'mobnney', 'monfey', 'monnjy', 'monnqey', 'monnyy', 'monnev', 'jmonney', 'mouney', 'tmonney', 'monnkey', 'monneuy', 'emonney', 'mgonney', 'meonney', 'monniey', 'monnzey', 'monneyg', 'mknney', 'monnty', 'monxey', 'monnex', 'monnmey', 'cmonney', 'monuey', 'mionney', 'monnay', 'motnney', 'monpey', 'oonney', 'mopney', 'nmonney', 'monnhey', 'monwey', 'monnen', 'monneo', 'monneky', 'monneyq', 'motney', 'mnney', 'monnem', 'monkney', 'monneyl', 'monnec', 'monneiy', 'mosnney', 'ionney', 'gonney', 'monneyi', 'mjnney', 'pmonney', 'mmonney', 'msonney', 'mocnney', 'monnry', 'monneyt', 'mofnney', 'monnxy', 'monnemy', 'monneyf', 'monndy', 'monzey', 'monnewy', 'monneyr', 'monhney', 'moynney', 'donney', 'qonney', 'mocney', 'xmonney', 'monaney', 'monnez', 'wmonney', 'monneqy', 'movnney', 'smonney', 'monneyo', 'monnea', 'monnee', 'moaney', 'bmonney', 'mlonney', 'monnek', 'mcnney', 'umonney', 'mohnney', 'zonney', 'monnly', 'monneyp', 'kmonney', 'mbonney', 'mfonney', 'monneyj', 'yonney', 'moeney', 'monbney', 'monnepy', 'molney', 'monoey', 'monneb', 'monncy', 'monnqy', 'monneyd', 'monnet', 'monnbey', 'monaey', 'monrey', 'tonney', 'xonney', 'monneey', 'sonney', 'monneyz', 'monnmy', 'mongney', 'lonney', 'monwney', 'mlnney', 'monnwey', 'mpnney', 'mopnney', 'monneyn', 'monneu', 'momnney', 'mxnney', 'menney', 'moniey', 'moncney', 'moqnney', 'manney', 'monnes', 'rmonney', 'eonney', 'mdnney', 'moyney', 'maonney', 'mconney', 'bonney', 'mowney', 'monnzy', 'monyney', 'jonney', 'monuney', 'monnely', 'mononey', 'monner', 'monpney', 'monney', 'moznney', 'monmey', 'monnef', 'moenney', 'monneye', 'vonney'}\n"
     ]
    }
   ],
   "source": [
    "print(len(set(edits_one(\"monney\"))))\n",
    "print(edits_one(\"monney\"))"
   ]
  },
  {
   "cell_type": "code",
   "execution_count": 12,
   "metadata": {},
   "outputs": [
    {
     "name": "stdout",
     "output_type": "stream",
     "text": [
      "{'monkey', 'money'}\n"
     ]
    }
   ],
   "source": [
    "print(known(edits_one(\"monney\")))"
   ]
  },
  {
   "cell_type": "code",
   "execution_count": 13,
   "metadata": {},
   "outputs": [
    {
     "name": "stdout",
     "output_type": "stream",
     "text": [
      "51013\n",
      "{'monkey', 'money'}\n"
     ]
    }
   ],
   "source": [
    "# Let's look at words that are two edits away\n",
    "print(len(set(edits_two(\"monney\"))))\n",
    "print(known(edits_one(\"monney\")))"
   ]
  },
  {
   "cell_type": "code",
   "execution_count": 14,
   "metadata": {},
   "outputs": [
    {
     "name": "stdout",
     "output_type": "stream",
     "text": [
      "{'monkey', 'money'}\n"
     ]
    }
   ],
   "source": [
    "# Let's look at possible corrections of a word\n",
    "print(possible_corrections(\"monney\"))"
   ]
  },
  {
   "cell_type": "code",
   "execution_count": 15,
   "metadata": {},
   "outputs": [
    {
     "name": "stdout",
     "output_type": "stream",
     "text": [
      "0.0002922233626303688\n",
      "5.378344097491451e-06\n"
     ]
    }
   ],
   "source": [
    "# Let's look at probability of a word\n",
    "print(prob(\"money\"))\n",
    "print(prob(\"monkey\"))"
   ]
  },
  {
   "cell_type": "code",
   "execution_count": 16,
   "metadata": {
    "collapsed": true
   },
   "outputs": [],
   "source": [
    "def spell_check(word):\n",
    "    \"Print the most probable spelling correction for `word` out of all the `possible_corrections`\"\n",
    "    correct_word = max(possible_corrections(word), key=prob)\n",
    "    if correct_word != word:\n",
    "        return \"Did you mean \" + correct_word + \"?\"\n",
    "    else:\n",
    "        return \"Correct spelling.\""
   ]
  },
  {
   "cell_type": "code",
   "execution_count": 17,
   "metadata": {},
   "outputs": [
    {
     "name": "stdout",
     "output_type": "stream",
     "text": [
      "Did you mean money?\n"
     ]
    }
   ],
   "source": [
    "# test spell check\n",
    "print(spell_check(\"monney\"))"
   ]
  },
  {
   "cell_type": "code",
   "execution_count": null,
   "metadata": {
    "collapsed": true
   },
   "outputs": [],
   "source": []
  }
 ],
 "metadata": {
  "kernelspec": {
   "display_name": "Python 3",
   "language": "python",
   "name": "python3"
  },
  "language_info": {
   "codemirror_mode": {
    "name": "ipython",
    "version": 3
   },
   "file_extension": ".py",
   "mimetype": "text/x-python",
   "name": "python",
   "nbconvert_exporter": "python",
   "pygments_lexer": "ipython3",
   "version": "3.6.3"
  }
 },
 "nbformat": 4,
 "nbformat_minor": 2
}
